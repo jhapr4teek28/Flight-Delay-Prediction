{
 "cells": [
  {
   "cell_type": "code",
   "execution_count": 1,
   "id": "3ca6df0a",
   "metadata": {},
   "outputs": [],
   "source": [
    "#importing important libraries:\n",
    "#import sys\n",
    "import numpy as np\n",
    "import pandas as pd\n",
    "import matplotlib.pyplot as plt\n",
    "import copy"
   ]
  },
  {
   "cell_type": "code",
   "execution_count": 2,
   "id": "a4a5b046",
   "metadata": {},
   "outputs": [
    {
     "data": {
      "text/html": [
       "<div>\n",
       "<style scoped>\n",
       "    .dataframe tbody tr th:only-of-type {\n",
       "        vertical-align: middle;\n",
       "    }\n",
       "\n",
       "    .dataframe tbody tr th {\n",
       "        vertical-align: top;\n",
       "    }\n",
       "\n",
       "    .dataframe thead th {\n",
       "        text-align: right;\n",
       "    }\n",
       "</style>\n",
       "<table border=\"1\" class=\"dataframe\">\n",
       "  <thead>\n",
       "    <tr style=\"text-align: right;\">\n",
       "      <th></th>\n",
       "      <th>Month</th>\n",
       "      <th>DayofMonth</th>\n",
       "      <th>DayOfWeek</th>\n",
       "      <th>DepTime</th>\n",
       "      <th>UniqueCarrier</th>\n",
       "      <th>Origin</th>\n",
       "      <th>Dest</th>\n",
       "      <th>Distance</th>\n",
       "      <th>dep_delayed_15min</th>\n",
       "    </tr>\n",
       "  </thead>\n",
       "  <tbody>\n",
       "    <tr>\n",
       "      <th>0</th>\n",
       "      <td>c-8</td>\n",
       "      <td>c-21</td>\n",
       "      <td>c-7</td>\n",
       "      <td>1934</td>\n",
       "      <td>AA</td>\n",
       "      <td>ATL</td>\n",
       "      <td>DFW</td>\n",
       "      <td>732</td>\n",
       "      <td>N</td>\n",
       "    </tr>\n",
       "    <tr>\n",
       "      <th>1</th>\n",
       "      <td>c-4</td>\n",
       "      <td>c-20</td>\n",
       "      <td>c-3</td>\n",
       "      <td>1548</td>\n",
       "      <td>US</td>\n",
       "      <td>PIT</td>\n",
       "      <td>MCO</td>\n",
       "      <td>834</td>\n",
       "      <td>N</td>\n",
       "    </tr>\n",
       "    <tr>\n",
       "      <th>2</th>\n",
       "      <td>c-9</td>\n",
       "      <td>c-2</td>\n",
       "      <td>c-5</td>\n",
       "      <td>1422</td>\n",
       "      <td>XE</td>\n",
       "      <td>RDU</td>\n",
       "      <td>CLE</td>\n",
       "      <td>416</td>\n",
       "      <td>N</td>\n",
       "    </tr>\n",
       "    <tr>\n",
       "      <th>3</th>\n",
       "      <td>c-11</td>\n",
       "      <td>c-25</td>\n",
       "      <td>c-6</td>\n",
       "      <td>1015</td>\n",
       "      <td>OO</td>\n",
       "      <td>DEN</td>\n",
       "      <td>MEM</td>\n",
       "      <td>872</td>\n",
       "      <td>N</td>\n",
       "    </tr>\n",
       "    <tr>\n",
       "      <th>4</th>\n",
       "      <td>c-10</td>\n",
       "      <td>c-7</td>\n",
       "      <td>c-6</td>\n",
       "      <td>1828</td>\n",
       "      <td>WN</td>\n",
       "      <td>MDW</td>\n",
       "      <td>OMA</td>\n",
       "      <td>423</td>\n",
       "      <td>Y</td>\n",
       "    </tr>\n",
       "    <tr>\n",
       "      <th>...</th>\n",
       "      <td>...</td>\n",
       "      <td>...</td>\n",
       "      <td>...</td>\n",
       "      <td>...</td>\n",
       "      <td>...</td>\n",
       "      <td>...</td>\n",
       "      <td>...</td>\n",
       "      <td>...</td>\n",
       "      <td>...</td>\n",
       "    </tr>\n",
       "    <tr>\n",
       "      <th>99995</th>\n",
       "      <td>c-5</td>\n",
       "      <td>c-4</td>\n",
       "      <td>c-3</td>\n",
       "      <td>1618</td>\n",
       "      <td>OO</td>\n",
       "      <td>SFO</td>\n",
       "      <td>RDD</td>\n",
       "      <td>199</td>\n",
       "      <td>N</td>\n",
       "    </tr>\n",
       "    <tr>\n",
       "      <th>99996</th>\n",
       "      <td>c-1</td>\n",
       "      <td>c-18</td>\n",
       "      <td>c-3</td>\n",
       "      <td>804</td>\n",
       "      <td>CO</td>\n",
       "      <td>EWR</td>\n",
       "      <td>DAB</td>\n",
       "      <td>884</td>\n",
       "      <td>N</td>\n",
       "    </tr>\n",
       "    <tr>\n",
       "      <th>99997</th>\n",
       "      <td>c-1</td>\n",
       "      <td>c-24</td>\n",
       "      <td>c-2</td>\n",
       "      <td>1901</td>\n",
       "      <td>NW</td>\n",
       "      <td>DTW</td>\n",
       "      <td>IAH</td>\n",
       "      <td>1076</td>\n",
       "      <td>N</td>\n",
       "    </tr>\n",
       "    <tr>\n",
       "      <th>99998</th>\n",
       "      <td>c-4</td>\n",
       "      <td>c-27</td>\n",
       "      <td>c-4</td>\n",
       "      <td>1515</td>\n",
       "      <td>MQ</td>\n",
       "      <td>DFW</td>\n",
       "      <td>GGG</td>\n",
       "      <td>140</td>\n",
       "      <td>N</td>\n",
       "    </tr>\n",
       "    <tr>\n",
       "      <th>99999</th>\n",
       "      <td>c-11</td>\n",
       "      <td>c-17</td>\n",
       "      <td>c-4</td>\n",
       "      <td>1800</td>\n",
       "      <td>WN</td>\n",
       "      <td>SEA</td>\n",
       "      <td>SMF</td>\n",
       "      <td>605</td>\n",
       "      <td>N</td>\n",
       "    </tr>\n",
       "  </tbody>\n",
       "</table>\n",
       "<p>100000 rows × 9 columns</p>\n",
       "</div>"
      ],
      "text/plain": [
       "      Month DayofMonth DayOfWeek  DepTime UniqueCarrier Origin Dest  Distance  \\\n",
       "0       c-8       c-21       c-7     1934            AA    ATL  DFW       732   \n",
       "1       c-4       c-20       c-3     1548            US    PIT  MCO       834   \n",
       "2       c-9        c-2       c-5     1422            XE    RDU  CLE       416   \n",
       "3      c-11       c-25       c-6     1015            OO    DEN  MEM       872   \n",
       "4      c-10        c-7       c-6     1828            WN    MDW  OMA       423   \n",
       "...     ...        ...       ...      ...           ...    ...  ...       ...   \n",
       "99995   c-5        c-4       c-3     1618            OO    SFO  RDD       199   \n",
       "99996   c-1       c-18       c-3      804            CO    EWR  DAB       884   \n",
       "99997   c-1       c-24       c-2     1901            NW    DTW  IAH      1076   \n",
       "99998   c-4       c-27       c-4     1515            MQ    DFW  GGG       140   \n",
       "99999  c-11       c-17       c-4     1800            WN    SEA  SMF       605   \n",
       "\n",
       "      dep_delayed_15min  \n",
       "0                     N  \n",
       "1                     N  \n",
       "2                     N  \n",
       "3                     N  \n",
       "4                     Y  \n",
       "...                 ...  \n",
       "99995                 N  \n",
       "99996                 N  \n",
       "99997                 N  \n",
       "99998                 N  \n",
       "99999                 N  \n",
       "\n",
       "[100000 rows x 9 columns]"
      ]
     },
     "execution_count": 2,
     "metadata": {},
     "output_type": "execute_result"
    }
   ],
   "source": [
    "#loading train data:\n",
    "data=pd.read_csv('flight_delays_train.csv')\n",
    "data"
   ]
  },
  {
   "cell_type": "code",
   "execution_count": 3,
   "id": "fe498f19",
   "metadata": {},
   "outputs": [
    {
     "data": {
      "text/plain": [
       "False"
      ]
     },
     "execution_count": 3,
     "metadata": {},
     "output_type": "execute_result"
    }
   ],
   "source": [
    "#cleaning data:\n",
    "data.isnull().values.any()"
   ]
  },
  {
   "cell_type": "code",
   "execution_count": 4,
   "id": "6c68d0db",
   "metadata": {},
   "outputs": [
    {
     "data": {
      "text/html": [
       "<div>\n",
       "<style scoped>\n",
       "    .dataframe tbody tr th:only-of-type {\n",
       "        vertical-align: middle;\n",
       "    }\n",
       "\n",
       "    .dataframe tbody tr th {\n",
       "        vertical-align: top;\n",
       "    }\n",
       "\n",
       "    .dataframe thead th {\n",
       "        text-align: right;\n",
       "    }\n",
       "</style>\n",
       "<table border=\"1\" class=\"dataframe\">\n",
       "  <thead>\n",
       "    <tr style=\"text-align: right;\">\n",
       "      <th></th>\n",
       "      <th>Month</th>\n",
       "      <th>DayofMonth</th>\n",
       "      <th>DayOfWeek</th>\n",
       "      <th>DepTime</th>\n",
       "      <th>UniqueCarrier</th>\n",
       "      <th>Origin</th>\n",
       "      <th>Dest</th>\n",
       "      <th>Distance</th>\n",
       "    </tr>\n",
       "  </thead>\n",
       "  <tbody>\n",
       "    <tr>\n",
       "      <th>0</th>\n",
       "      <td>c-8</td>\n",
       "      <td>c-21</td>\n",
       "      <td>c-7</td>\n",
       "      <td>1934</td>\n",
       "      <td>AA</td>\n",
       "      <td>ATL</td>\n",
       "      <td>DFW</td>\n",
       "      <td>732</td>\n",
       "    </tr>\n",
       "    <tr>\n",
       "      <th>1</th>\n",
       "      <td>c-4</td>\n",
       "      <td>c-20</td>\n",
       "      <td>c-3</td>\n",
       "      <td>1548</td>\n",
       "      <td>US</td>\n",
       "      <td>PIT</td>\n",
       "      <td>MCO</td>\n",
       "      <td>834</td>\n",
       "    </tr>\n",
       "    <tr>\n",
       "      <th>2</th>\n",
       "      <td>c-9</td>\n",
       "      <td>c-2</td>\n",
       "      <td>c-5</td>\n",
       "      <td>1422</td>\n",
       "      <td>XE</td>\n",
       "      <td>RDU</td>\n",
       "      <td>CLE</td>\n",
       "      <td>416</td>\n",
       "    </tr>\n",
       "    <tr>\n",
       "      <th>3</th>\n",
       "      <td>c-11</td>\n",
       "      <td>c-25</td>\n",
       "      <td>c-6</td>\n",
       "      <td>1015</td>\n",
       "      <td>OO</td>\n",
       "      <td>DEN</td>\n",
       "      <td>MEM</td>\n",
       "      <td>872</td>\n",
       "    </tr>\n",
       "    <tr>\n",
       "      <th>4</th>\n",
       "      <td>c-10</td>\n",
       "      <td>c-7</td>\n",
       "      <td>c-6</td>\n",
       "      <td>1828</td>\n",
       "      <td>WN</td>\n",
       "      <td>MDW</td>\n",
       "      <td>OMA</td>\n",
       "      <td>423</td>\n",
       "    </tr>\n",
       "    <tr>\n",
       "      <th>...</th>\n",
       "      <td>...</td>\n",
       "      <td>...</td>\n",
       "      <td>...</td>\n",
       "      <td>...</td>\n",
       "      <td>...</td>\n",
       "      <td>...</td>\n",
       "      <td>...</td>\n",
       "      <td>...</td>\n",
       "    </tr>\n",
       "    <tr>\n",
       "      <th>99995</th>\n",
       "      <td>c-5</td>\n",
       "      <td>c-4</td>\n",
       "      <td>c-3</td>\n",
       "      <td>1618</td>\n",
       "      <td>OO</td>\n",
       "      <td>SFO</td>\n",
       "      <td>RDD</td>\n",
       "      <td>199</td>\n",
       "    </tr>\n",
       "    <tr>\n",
       "      <th>99996</th>\n",
       "      <td>c-1</td>\n",
       "      <td>c-18</td>\n",
       "      <td>c-3</td>\n",
       "      <td>804</td>\n",
       "      <td>CO</td>\n",
       "      <td>EWR</td>\n",
       "      <td>DAB</td>\n",
       "      <td>884</td>\n",
       "    </tr>\n",
       "    <tr>\n",
       "      <th>99997</th>\n",
       "      <td>c-1</td>\n",
       "      <td>c-24</td>\n",
       "      <td>c-2</td>\n",
       "      <td>1901</td>\n",
       "      <td>NW</td>\n",
       "      <td>DTW</td>\n",
       "      <td>IAH</td>\n",
       "      <td>1076</td>\n",
       "    </tr>\n",
       "    <tr>\n",
       "      <th>99998</th>\n",
       "      <td>c-4</td>\n",
       "      <td>c-27</td>\n",
       "      <td>c-4</td>\n",
       "      <td>1515</td>\n",
       "      <td>MQ</td>\n",
       "      <td>DFW</td>\n",
       "      <td>GGG</td>\n",
       "      <td>140</td>\n",
       "    </tr>\n",
       "    <tr>\n",
       "      <th>99999</th>\n",
       "      <td>c-11</td>\n",
       "      <td>c-17</td>\n",
       "      <td>c-4</td>\n",
       "      <td>1800</td>\n",
       "      <td>WN</td>\n",
       "      <td>SEA</td>\n",
       "      <td>SMF</td>\n",
       "      <td>605</td>\n",
       "    </tr>\n",
       "  </tbody>\n",
       "</table>\n",
       "<p>100000 rows × 8 columns</p>\n",
       "</div>"
      ],
      "text/plain": [
       "      Month DayofMonth DayOfWeek  DepTime UniqueCarrier Origin Dest  Distance\n",
       "0       c-8       c-21       c-7     1934            AA    ATL  DFW       732\n",
       "1       c-4       c-20       c-3     1548            US    PIT  MCO       834\n",
       "2       c-9        c-2       c-5     1422            XE    RDU  CLE       416\n",
       "3      c-11       c-25       c-6     1015            OO    DEN  MEM       872\n",
       "4      c-10        c-7       c-6     1828            WN    MDW  OMA       423\n",
       "...     ...        ...       ...      ...           ...    ...  ...       ...\n",
       "99995   c-5        c-4       c-3     1618            OO    SFO  RDD       199\n",
       "99996   c-1       c-18       c-3      804            CO    EWR  DAB       884\n",
       "99997   c-1       c-24       c-2     1901            NW    DTW  IAH      1076\n",
       "99998   c-4       c-27       c-4     1515            MQ    DFW  GGG       140\n",
       "99999  c-11       c-17       c-4     1800            WN    SEA  SMF       605\n",
       "\n",
       "[100000 rows x 8 columns]"
      ]
     },
     "execution_count": 4,
     "metadata": {},
     "output_type": "execute_result"
    }
   ],
   "source": [
    "#creating training examples and label:\n",
    "y=data['dep_delayed_15min'].values\n",
    "X=data.drop(['dep_delayed_15min'],axis=1)\n",
    "X"
   ]
  },
  {
   "cell_type": "code",
   "execution_count": 5,
   "id": "af434a1b",
   "metadata": {},
   "outputs": [],
   "source": [
    "y=y.reshape(100000,1);"
   ]
  },
  {
   "cell_type": "code",
   "execution_count": 6,
   "id": "87dc7583",
   "metadata": {},
   "outputs": [],
   "source": [
    "#converting string values to integer:\n",
    "from sklearn.preprocessing import LabelEncoder \n",
    "le = LabelEncoder()"
   ]
  },
  {
   "cell_type": "code",
   "execution_count": 7,
   "id": "8743818a",
   "metadata": {},
   "outputs": [
    {
     "name": "stderr",
     "output_type": "stream",
     "text": [
      "C:\\Users\\Pushkaraj\\anaconda3\\envs\\puspa\\lib\\site-packages\\sklearn\\preprocessing\\_label.py:115: DataConversionWarning: A column-vector y was passed when a 1d array was expected. Please change the shape of y to (n_samples, ), for example using ravel().\n",
      "  y = column_or_1d(y, warn=True)\n"
     ]
    }
   ],
   "source": [
    "#converted Yes No to 1,0:\n",
    "y=le.fit_transform(y)\n",
    "#np.set_printoptions(threshold=sys.maxsize)\n"
   ]
  },
  {
   "cell_type": "code",
   "execution_count": 53,
   "id": "30da54fd",
   "metadata": {},
   "outputs": [],
   "source": [
    "#converted strings to unique integer:\n",
    "x1=le.fit_transform(data['Month'].values)\n",
    "x1=x1/np.average(x1)\n",
    "x2=le.fit_transform(data['DayofMonth'].values)\n",
    "x2=x2/np.average(x2)\n",
    "x3=le.fit_transform(data['DayOfWeek'].values)\n",
    "x3=x3/np.average(x3)\n",
    "x4=le.fit_transform(data['DepTime'].values)\n",
    "x4=x4/np.average(x4)\n",
    "x5=le.fit_transform(data['UniqueCarrier'].values)\n",
    "x5=x5/np.average(x5)\n",
    "x6=le.fit_transform(data['Origin'].values)\n",
    "x6=x6/np.average(x6)\n",
    "x7=le.fit_transform(data['Dest'].values)\n",
    "x7=x7/np.average(x7)\n",
    "x8=le.fit_transform(data['Distance'].values)\n",
    "x8=x1/np.average(x8)\n",
    "X=np.array([x1,x2,x3,x4,x5,x6,x7,x8]).T\n"
   ]
  },
  {
   "cell_type": "code",
   "execution_count": 54,
   "id": "a102af9d",
   "metadata": {},
   "outputs": [
    {
     "data": {
      "text/plain": [
       "(100000, 8)"
      ]
     },
     "execution_count": 54,
     "metadata": {},
     "output_type": "execute_result"
    }
   ],
   "source": [
    "X.shape"
   ]
  },
  {
   "cell_type": "code",
   "execution_count": 55,
   "id": "8c61cf17",
   "metadata": {},
   "outputs": [
    {
     "data": {
      "text/plain": [
       "(100000,)"
      ]
     },
     "execution_count": 55,
     "metadata": {},
     "output_type": "execute_result"
    }
   ],
   "source": [
    "y.shape"
   ]
  },
  {
   "cell_type": "code",
   "execution_count": 56,
   "id": "7a1939a6",
   "metadata": {},
   "outputs": [
    {
     "data": {
      "text/plain": [
       "array([[1.79787886e+00, 8.76961020e-01, 2.03263738e+00, ...,\n",
       "        1.26424195e-01, 5.53030248e-01, 3.59703489e-03],\n",
       "       [1.07872732e+00, 8.09502480e-01, 6.77545794e-01, ...,\n",
       "        1.52411391e+00, 1.21241247e+00, 2.15822093e-03],\n",
       "       [1.97766675e+00, 7.42043940e-01, 1.35509159e+00, ...,\n",
       "        1.60137314e+00, 4.18317751e-01, 3.95673838e-03],\n",
       "       ...,\n",
       "       [0.00000000e+00, 1.07933664e+00, 3.38772897e-01, ...,\n",
       "        5.97003143e-01, 9.28807211e-01, 0.00000000e+00],\n",
       "       [1.07872732e+00, 1.28171226e+00, 1.01631869e+00, ...,\n",
       "        5.54861744e-01, 7.58644058e-01, 2.15822093e-03],\n",
       "       [3.59575773e-01, 5.39668320e-01, 1.01631869e+00, ...,\n",
       "        1.72077376e+00, 1.79380324e+00, 7.19406978e-04]])"
      ]
     },
     "execution_count": 56,
     "metadata": {},
     "output_type": "execute_result"
    }
   ],
   "source": [
    "X"
   ]
  },
  {
   "cell_type": "code",
   "execution_count": 57,
   "id": "f4f43a85",
   "metadata": {},
   "outputs": [],
   "source": [
    "#selection of best 5 features:\n",
    "from sklearn.feature_selection import SelectKBest\n",
    "from sklearn.feature_selection import chi2\n",
    "X_new = SelectKBest(chi2, k=5).fit_transform(X, y)"
   ]
  },
  {
   "cell_type": "code",
   "execution_count": 58,
   "id": "50776398",
   "metadata": {},
   "outputs": [
    {
     "data": {
      "text/plain": [
       "(100000, 5)"
      ]
     },
     "execution_count": 58,
     "metadata": {},
     "output_type": "execute_result"
    }
   ],
   "source": [
    "X_new.shape"
   ]
  },
  {
   "cell_type": "code",
   "execution_count": 59,
   "id": "b86d576e",
   "metadata": {},
   "outputs": [],
   "source": [
    "#defining sigmoid function: this function calculates sigmoid of numpy array z\n",
    "def sigmoid(z):\n",
    "    s=1/(1+np.exp(-z))\n",
    "    return s"
   ]
  },
  {
   "cell_type": "code",
   "execution_count": 60,
   "id": "382faeb9",
   "metadata": {},
   "outputs": [],
   "source": [
    "#function initializing parameters of neural network to zero:\n",
    "def initialize_to_zeros(dim):\n",
    "    w=np.zeros((dim,1))\n",
    "    b=0.0\n",
    "    return w,b"
   ]
  },
  {
   "cell_type": "code",
   "execution_count": 61,
   "id": "fa57f45f",
   "metadata": {},
   "outputs": [],
   "source": [
    "#forward and backward propagation to calculate output and derivatives:\n",
    "def propagate(w,b,X,Y):\n",
    "    m = X.shape[1]\n",
    "    #fwd propagation:\n",
    "    A = sigmoid(np.dot(w.T,X.T)+b)    #compute activation\n",
    "    cost = -1 / m * np.sum(Y*np.log(A)+(1-Y)*np.log(1-A), axis = 1, keepdims = True)     # compute cost\n",
    "    #backward propagation:\n",
    "    dw = 1 / m * np.dot(X.T,(A-Y).T)\n",
    "    db = 1 / m * np.sum(A-Y)\n",
    "    cost = np.squeeze(cost)\n",
    "    gradients={\"dw\": dw,\n",
    "               \"db\": db}\n",
    "    return gradients,cost"
   ]
  },
  {
   "cell_type": "code",
   "execution_count": 62,
   "id": "af6b6513",
   "metadata": {},
   "outputs": [],
   "source": [
    "#function for optizing parameters using gradient descent algorithm:\n",
    "def optimize(w, b, X, Y, num_iterations=100, learning_rate=0.009):\n",
    "    w = copy.deepcopy(w)\n",
    "    b = copy.deepcopy(b)\n",
    "    costs = []\n",
    "    for i in range(num_iterations):\n",
    "        grads, cost = propagate(w=w, b=b, X=X, Y=y)\n",
    "        dw=grads[\"dw\"]\n",
    "        db=grads[\"db\"]\n",
    "        \n",
    "        w = w - learning_rate * dw\n",
    "        b = b - learning_rate * db\n",
    "    params = {\"w\": w,\n",
    "              \"b\": b}\n",
    "    \n",
    "    grads = {\"dw\": dw,\n",
    "             \"db\": db}\n",
    "    \n",
    "    return params, grads    "
   ]
  },
  {
   "cell_type": "code",
   "execution_count": 63,
   "id": "55d055e2",
   "metadata": {},
   "outputs": [],
   "source": [
    "#function to predict the label is 0 or 1:\n",
    "def predict(w,b,X):\n",
    "    m = X.shape[1]\n",
    "    Y_prediction = np.zeros((1, m))\n",
    "    w = w.reshape(X.shape[0], 1)\n",
    "    A=sigmoid(np.dot(w.T,X)+b)\n",
    "    \n",
    "    for i in range(A.shape[1]):\n",
    "        if A[0,i] > 0.5:\n",
    "            Y_prediction[0,i]=1\n",
    "        else:\n",
    "            Y_prediction[0,i]=0\n",
    "    return Y_prediction"
   ]
  },
  {
   "cell_type": "code",
   "execution_count": 64,
   "id": "762ad9f3",
   "metadata": {},
   "outputs": [
    {
     "data": {
      "text/plain": [
       "{'dw': array([[6172.67547747],\n",
       "        [6230.11996827],\n",
       "        [6135.88858437],\n",
       "        [5357.11505891],\n",
       "        [6250.84133546]]),\n",
       " 'db': 6191.200000000001}"
      ]
     },
     "execution_count": 64,
     "metadata": {},
     "output_type": "execute_result"
    }
   ],
   "source": [
    "#using all above functions for prediction:\n",
    "w, b = initialize_to_zeros(X_new.shape[1])\n",
    "grads, cost = propagate(w,b,X_new,y)\n",
    "grads"
   ]
  },
  {
   "cell_type": "code",
   "execution_count": 65,
   "id": "ac846735",
   "metadata": {},
   "outputs": [
    {
     "data": {
      "text/plain": [
       "array([[1.79787886, 0.87696102, 2.03263738, 1.54004359, 0.12642419],\n",
       "       [1.07872732, 0.80950248, 0.67754579, 1.19781168, 1.52411391],\n",
       "       [1.97766675, 0.74204394, 1.35509159, 1.06758184, 1.60137314],\n",
       "       ...,\n",
       "       [0.        , 1.07933664, 0.3387729 , 1.49007167, 0.59700314],\n",
       "       [1.07872732, 1.28171226, 1.01631869, 1.14783976, 0.55486174],\n",
       "       [0.35957577, 0.53966832, 1.01631869, 1.39769934, 1.72077376]])"
      ]
     },
     "execution_count": 65,
     "metadata": {},
     "output_type": "execute_result"
    }
   ],
   "source": [
    "\n",
    "X_new"
   ]
  },
  {
   "cell_type": "code",
   "execution_count": 66,
   "id": "b676efcc",
   "metadata": {},
   "outputs": [
    {
     "name": "stderr",
     "output_type": "stream",
     "text": [
      "C:\\Users\\Pushkaraj\\AppData\\Local\\Temp\\ipykernel_1224\\1032241046.py:6: RuntimeWarning: divide by zero encountered in log\n",
      "  cost = -1 / m * np.sum(Y*np.log(A)+(1-Y)*np.log(1-A), axis = 1, keepdims = True)     # compute cost\n",
      "C:\\Users\\Pushkaraj\\AppData\\Local\\Temp\\ipykernel_1224\\1032241046.py:6: RuntimeWarning: invalid value encountered in multiply\n",
      "  cost = -1 / m * np.sum(Y*np.log(A)+(1-Y)*np.log(1-A), axis = 1, keepdims = True)     # compute cost\n",
      "C:\\Users\\Pushkaraj\\AppData\\Local\\Temp\\ipykernel_1224\\1440447879.py:3: RuntimeWarning: overflow encountered in exp\n",
      "  s=1/(1+np.exp(-z))\n"
     ]
    }
   ],
   "source": [
    "params,grads=optimize(w, b, X_new, y, num_iterations=100, learning_rate=0.009)\n"
   ]
  },
  {
   "cell_type": "code",
   "execution_count": 67,
   "id": "e1f40ffe",
   "metadata": {},
   "outputs": [
    {
     "data": {
      "text/plain": [
       "{'w': array([[-47.63131696],\n",
       "        [-52.66373804],\n",
       "        [-45.29808476],\n",
       "        [ 81.80323185],\n",
       "        [-52.10912349]]),\n",
       " 'b': -141.72975936850736}"
      ]
     },
     "execution_count": 67,
     "metadata": {},
     "output_type": "execute_result"
    }
   ],
   "source": [
    "params"
   ]
  },
  {
   "cell_type": "code",
   "execution_count": 68,
   "id": "d3cb2d68",
   "metadata": {},
   "outputs": [
    {
     "data": {
      "text/plain": [
       "{'dw': array([[3890.11917235],\n",
       "        [3782.64342281],\n",
       "        [3856.21662704],\n",
       "        [6984.77058755],\n",
       "        [3717.80966427]]),\n",
       " 'db': 4339.21063663802}"
      ]
     },
     "execution_count": 68,
     "metadata": {},
     "output_type": "execute_result"
    }
   ],
   "source": [
    "grads"
   ]
  },
  {
   "cell_type": "code",
   "execution_count": 69,
   "id": "3779ef66",
   "metadata": {},
   "outputs": [],
   "source": [
    "w=params['w']\n",
    "b=params['b']\n"
   ]
  },
  {
   "cell_type": "code",
   "execution_count": 70,
   "id": "e8b45b58",
   "metadata": {},
   "outputs": [],
   "source": [
    "Y_pred=predict(w,b,X_new.T)"
   ]
  },
  {
   "cell_type": "code",
   "execution_count": null,
   "id": "19529542",
   "metadata": {},
   "outputs": [],
   "source": []
  },
  {
   "cell_type": "code",
   "execution_count": 71,
   "id": "754b2c59",
   "metadata": {},
   "outputs": [
    {
     "data": {
      "text/plain": [
       "0.80956"
      ]
     },
     "execution_count": 71,
     "metadata": {},
     "output_type": "execute_result"
    }
   ],
   "source": [
    "from sklearn.metrics import accuracy_score\n",
    "accuracy_score(y, Y_pred.T)"
   ]
  },
  {
   "cell_type": "code",
   "execution_count": 47,
   "id": "c67dff09",
   "metadata": {},
   "outputs": [
    {
     "data": {
      "text/html": [
       "<div>\n",
       "<style scoped>\n",
       "    .dataframe tbody tr th:only-of-type {\n",
       "        vertical-align: middle;\n",
       "    }\n",
       "\n",
       "    .dataframe tbody tr th {\n",
       "        vertical-align: top;\n",
       "    }\n",
       "\n",
       "    .dataframe thead th {\n",
       "        text-align: right;\n",
       "    }\n",
       "</style>\n",
       "<table border=\"1\" class=\"dataframe\">\n",
       "  <thead>\n",
       "    <tr style=\"text-align: right;\">\n",
       "      <th></th>\n",
       "      <th>Month</th>\n",
       "      <th>DayofMonth</th>\n",
       "      <th>DayOfWeek</th>\n",
       "      <th>DepTime</th>\n",
       "      <th>UniqueCarrier</th>\n",
       "      <th>Origin</th>\n",
       "      <th>Dest</th>\n",
       "      <th>Distance</th>\n",
       "    </tr>\n",
       "  </thead>\n",
       "  <tbody>\n",
       "    <tr>\n",
       "      <th>0</th>\n",
       "      <td>c-7</td>\n",
       "      <td>c-25</td>\n",
       "      <td>c-3</td>\n",
       "      <td>615</td>\n",
       "      <td>YV</td>\n",
       "      <td>MRY</td>\n",
       "      <td>PHX</td>\n",
       "      <td>598</td>\n",
       "    </tr>\n",
       "    <tr>\n",
       "      <th>1</th>\n",
       "      <td>c-4</td>\n",
       "      <td>c-17</td>\n",
       "      <td>c-2</td>\n",
       "      <td>739</td>\n",
       "      <td>WN</td>\n",
       "      <td>LAS</td>\n",
       "      <td>HOU</td>\n",
       "      <td>1235</td>\n",
       "    </tr>\n",
       "    <tr>\n",
       "      <th>2</th>\n",
       "      <td>c-12</td>\n",
       "      <td>c-2</td>\n",
       "      <td>c-7</td>\n",
       "      <td>651</td>\n",
       "      <td>MQ</td>\n",
       "      <td>GSP</td>\n",
       "      <td>ORD</td>\n",
       "      <td>577</td>\n",
       "    </tr>\n",
       "    <tr>\n",
       "      <th>3</th>\n",
       "      <td>c-3</td>\n",
       "      <td>c-25</td>\n",
       "      <td>c-7</td>\n",
       "      <td>1614</td>\n",
       "      <td>WN</td>\n",
       "      <td>BWI</td>\n",
       "      <td>MHT</td>\n",
       "      <td>377</td>\n",
       "    </tr>\n",
       "    <tr>\n",
       "      <th>4</th>\n",
       "      <td>c-6</td>\n",
       "      <td>c-6</td>\n",
       "      <td>c-3</td>\n",
       "      <td>1505</td>\n",
       "      <td>UA</td>\n",
       "      <td>ORD</td>\n",
       "      <td>STL</td>\n",
       "      <td>258</td>\n",
       "    </tr>\n",
       "    <tr>\n",
       "      <th>...</th>\n",
       "      <td>...</td>\n",
       "      <td>...</td>\n",
       "      <td>...</td>\n",
       "      <td>...</td>\n",
       "      <td>...</td>\n",
       "      <td>...</td>\n",
       "      <td>...</td>\n",
       "      <td>...</td>\n",
       "    </tr>\n",
       "    <tr>\n",
       "      <th>99995</th>\n",
       "      <td>c-6</td>\n",
       "      <td>c-5</td>\n",
       "      <td>c-2</td>\n",
       "      <td>852</td>\n",
       "      <td>WN</td>\n",
       "      <td>CRP</td>\n",
       "      <td>HOU</td>\n",
       "      <td>187</td>\n",
       "    </tr>\n",
       "    <tr>\n",
       "      <th>99996</th>\n",
       "      <td>c-11</td>\n",
       "      <td>c-24</td>\n",
       "      <td>c-6</td>\n",
       "      <td>1446</td>\n",
       "      <td>UA</td>\n",
       "      <td>ORD</td>\n",
       "      <td>LAS</td>\n",
       "      <td>1515</td>\n",
       "    </tr>\n",
       "    <tr>\n",
       "      <th>99997</th>\n",
       "      <td>c-1</td>\n",
       "      <td>c-30</td>\n",
       "      <td>c-2</td>\n",
       "      <td>1509</td>\n",
       "      <td>OO</td>\n",
       "      <td>ORD</td>\n",
       "      <td>SGF</td>\n",
       "      <td>438</td>\n",
       "    </tr>\n",
       "    <tr>\n",
       "      <th>99998</th>\n",
       "      <td>c-1</td>\n",
       "      <td>c-5</td>\n",
       "      <td>c-5</td>\n",
       "      <td>804</td>\n",
       "      <td>DL</td>\n",
       "      <td>LGA</td>\n",
       "      <td>ATL</td>\n",
       "      <td>761</td>\n",
       "    </tr>\n",
       "    <tr>\n",
       "      <th>99999</th>\n",
       "      <td>c-10</td>\n",
       "      <td>c-29</td>\n",
       "      <td>c-1</td>\n",
       "      <td>834</td>\n",
       "      <td>OO</td>\n",
       "      <td>MKE</td>\n",
       "      <td>MSP</td>\n",
       "      <td>297</td>\n",
       "    </tr>\n",
       "  </tbody>\n",
       "</table>\n",
       "<p>100000 rows × 8 columns</p>\n",
       "</div>"
      ],
      "text/plain": [
       "      Month DayofMonth DayOfWeek  DepTime UniqueCarrier Origin Dest  Distance\n",
       "0       c-7       c-25       c-3      615            YV    MRY  PHX       598\n",
       "1       c-4       c-17       c-2      739            WN    LAS  HOU      1235\n",
       "2      c-12        c-2       c-7      651            MQ    GSP  ORD       577\n",
       "3       c-3       c-25       c-7     1614            WN    BWI  MHT       377\n",
       "4       c-6        c-6       c-3     1505            UA    ORD  STL       258\n",
       "...     ...        ...       ...      ...           ...    ...  ...       ...\n",
       "99995   c-6        c-5       c-2      852            WN    CRP  HOU       187\n",
       "99996  c-11       c-24       c-6     1446            UA    ORD  LAS      1515\n",
       "99997   c-1       c-30       c-2     1509            OO    ORD  SGF       438\n",
       "99998   c-1        c-5       c-5      804            DL    LGA  ATL       761\n",
       "99999  c-10       c-29       c-1      834            OO    MKE  MSP       297\n",
       "\n",
       "[100000 rows x 8 columns]"
      ]
     },
     "execution_count": 47,
     "metadata": {},
     "output_type": "execute_result"
    }
   ],
   "source": [
    "testdata=pd.read_csv('flight_delays_test.csv')\n",
    "testdata"
   ]
  },
  {
   "cell_type": "code",
   "execution_count": 50,
   "id": "63bdf398",
   "metadata": {},
   "outputs": [
    {
     "data": {
      "text/plain": [
       "array([['c-25', 'c-3', 615, 'MRY', 598],\n",
       "       ['c-17', 'c-2', 739, 'LAS', 1235],\n",
       "       ['c-2', 'c-7', 651, 'GSP', 577],\n",
       "       ...,\n",
       "       ['c-30', 'c-2', 1509, 'ORD', 438],\n",
       "       ['c-5', 'c-5', 804, 'LGA', 761],\n",
       "       ['c-29', 'c-1', 834, 'MKE', 297]], dtype=object)"
      ]
     },
     "execution_count": 50,
     "metadata": {},
     "output_type": "execute_result"
    }
   ],
   "source": [
    "test=testdata[['DayofMonth','DayOfWeek','DepTime','Origin','Distance']].values\n",
    "test"
   ]
  },
  {
   "cell_type": "code",
   "execution_count": 51,
   "id": "b60bb50f",
   "metadata": {},
   "outputs": [
    {
     "data": {
      "text/plain": [
       "array([[0.87696102, 2.03263738, 1.54004359, 0.12642419, 1.15440988],\n",
       "       [0.80950248, 0.67754579, 1.19781168, 1.52411391, 1.30246245],\n",
       "       [0.74204394, 1.35509159, 1.06758184, 1.60137314, 0.61221737],\n",
       "       ...,\n",
       "       [1.07933664, 0.3387729 , 1.49007167, 0.59700314, 1.65658819],\n",
       "       [1.28171226, 1.01631869, 1.14783976, 0.55486174, 0.11003907],\n",
       "       [0.53966832, 1.01631869, 1.39769934, 1.72077376, 0.93833316]])"
      ]
     },
     "execution_count": 51,
     "metadata": {},
     "output_type": "execute_result"
    }
   ],
   "source": [
    "x1_test=le.fit_transform(data['DayofMonth'].values)\n",
    "x1_test=x1_test/np.average(x1_test)\n",
    "x2_test=le.fit_transform(data['DayOfWeek'].values)\n",
    "x2_test=x2_test/np.average(x2_test)\n",
    "x3_test=le.fit_transform(data['DepTime'].values)\n",
    "x3_test=x3_test/np.average(x3_test)\n",
    "x4_test=le.fit_transform(data['Origin'].values)\n",
    "x4_test=x4_test/np.average(x4_test)\n",
    "x5_test=le.fit_transform(data['Distance'].values)\n",
    "x5_test=x5_test/np.average(x5_test)\n",
    "X_test=np.array([x1_test,x2_test,x3_test,x4_test,x5_test]).T\n",
    "X_test"
   ]
  },
  {
   "cell_type": "code",
   "execution_count": 52,
   "id": "b4714675",
   "metadata": {},
   "outputs": [],
   "source": [
    "Y_pred=predict(w,b,X_test.T)  #prediction on test"
   ]
  },
  {
   "cell_type": "code",
   "execution_count": null,
   "id": "ef7b8d89",
   "metadata": {},
   "outputs": [],
   "source": []
  }
 ],
 "metadata": {
  "kernelspec": {
   "display_name": "Python 3 (ipykernel)",
   "language": "python",
   "name": "python3"
  },
  "language_info": {
   "codemirror_mode": {
    "name": "ipython",
    "version": 3
   },
   "file_extension": ".py",
   "mimetype": "text/x-python",
   "name": "python",
   "nbconvert_exporter": "python",
   "pygments_lexer": "ipython3",
   "version": "3.10.4"
  }
 },
 "nbformat": 4,
 "nbformat_minor": 5
}
